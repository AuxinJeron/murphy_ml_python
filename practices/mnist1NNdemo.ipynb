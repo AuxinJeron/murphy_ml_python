{
 "cells": [
  {
   "cell_type": "code",
   "execution_count": 88,
   "metadata": {},
   "outputs": [],
   "source": [
    "# setup the backend for matplotlib to inline\n",
    "%matplotlib inline\n",
    "\n",
    "import numpy as np\n",
    "# import matplotlib to plot image\n",
    "import matplotlib.pyplot as plt\n",
    "# import sklearn to load mnist data set \n",
    "from sklearn import datasets\n",
    "from sklearn.model_selection import train_test_split"
   ]
  },
  {
   "cell_type": "code",
   "execution_count": 89,
   "metadata": {},
   "outputs": [
    {
     "data": {
      "text/plain": [
       "'n_samples = 1797 and n_features = 64'"
      ]
     },
     "metadata": {},
     "output_type": "display_data"
    }
   ],
   "source": [
    "# learn how to use matplotlib to load test image \n",
    "# although this is not related to the classifer procedure, it is valuable to get familiar with the matplotlib\n",
    "\n",
    "# load mnist dataset\n",
    "digits = datasets.load_digits()\n",
    "\n",
    "# digits is a (n_samples, n_features) array\n",
    "display(f\"n_samples = {len(digits.data)} and n_features = {len(digits.data[0])}\")"
   ]
  },
  {
   "cell_type": "code",
   "execution_count": 90,
   "metadata": {},
   "outputs": [
    {
     "data": {
      "text/plain": [
       "array([[ 0.,  0.,  5., 13.,  9.,  1.,  0.,  0.],\n",
       "       [ 0.,  0., 13., 15., 10., 15.,  5.,  0.],\n",
       "       [ 0.,  3., 15.,  2.,  0., 11.,  8.,  0.],\n",
       "       [ 0.,  4., 12.,  0.,  0.,  8.,  8.,  0.],\n",
       "       [ 0.,  5.,  8.,  0.,  0.,  9.,  8.,  0.],\n",
       "       [ 0.,  4., 11.,  0.,  1., 12.,  7.,  0.],\n",
       "       [ 0.,  2., 14.,  5., 10., 12.,  0.,  0.],\n",
       "       [ 0.,  0.,  6., 13., 10.,  0.,  0.,  0.]])"
      ]
     },
     "metadata": {},
     "output_type": "display_data"
    },
    {
     "data": {
      "text/plain": [
       "<matplotlib.image.AxesImage at 0x116ecff90>"
      ]
     },
     "execution_count": 90,
     "metadata": {},
     "output_type": "execute_result"
    },
    {
     "data": {
      "image/png": "[encoded data removed]",
      "text/plain": [
       "<Figure size 432x288 with 1 Axes>"
      ]
     },
     "metadata": {
      "needs_background": "light"
     },
     "output_type": "display_data"
    }
   ],
   "source": [
    "# use the first image as the sample image\n",
    "sample_image = np.array(digits.data[0]).reshape(8, 8)\n",
    "sample_image.shape\n",
    "display(sample_image)\n",
    "plt.imshow(sample_image, cmap='gray')"
   ]
  },
  {
   "cell_type": "code",
   "execution_count": 85,
   "metadata": {},
   "outputs": [
    {
     "data": {
      "image/png": "[encoded data removed]",
      "text/plain": [
       "<Figure size 432x288 with 8 Axes>"
      ]
     },
     "metadata": {
      "needs_background": "light"
     },
     "output_type": "display_data"
    }
   ],
   "source": [
    "# look at the first 4 images\n",
    "# here use the digits.images directly\n",
    "fig, axes = plt.subplots(2, 4)\n",
    "images_and_labels = list(zip(digits.images[:4], digits.target[:4]))\n",
    "for ax, (image, label) in zip(axes[0], images_and_labels):\n",
    "    ax.set_axis_off()\n",
    "    ax.imshow(image, cmap='gray', interpolation='nearest')\n",
    "    ax.set_title(f'Training: {label}')"
   ]
  },
  {
   "cell_type": "code",
   "execution_count": 224,
   "metadata": {},
   "outputs": [],
   "source": [
    "# function to get the predictions\n",
    "def get_predictions(X_train, X_test, y_train, y_test):\n",
    "    # calculate the squared vector norms\n",
    "    train_norms = np.array([X_train[i, :].dot(X_train[i, :]) for i in range(X_train.shape[0])])\n",
    "    train_norms = np.broadcast_to(train_norms, (X_test.shape[0], train_norms.shape[0]))\n",
    "\n",
    "    # calculate the distance for each X_test, ignore the squared vector norms for X_test[i] since they are same\n",
    "    distances = train_norms - 2 * X_test.dot(X_train.T)\n",
    "    # get the prediction as the label which has the minimum distance from the test input\n",
    "    return y_train[np.argmin(distances, axis=1)]"
   ]
  },
  {
   "cell_type": "code",
   "execution_count": 227,
   "metadata": {},
   "outputs": [
    {
     "name": "stdout",
     "output_type": "stream",
     "text": [
      "error rate is 0.017797552836484987\n",
      "32.6 ms ± 0 ns per loop (mean ± std. dev. of 1 run, 1 loop each)\n"
     ]
    }
   ],
   "source": [
    "%%timeit -r1 -n1\n",
    "# collect errors using 1000 subsets\n",
    "errors = []\n",
    "for i in range(1): \n",
    "    # split data into train and test subsets\n",
    "    X_train, X_test, y_train, y_test = train_test_split(\n",
    "        digits.data, digits.target, test_size=0.5, shuffle=True\n",
    "    )\n",
    "    predictions = get_predictions(X_train, X_test, y_train, y_test)\n",
    "    error = 1 - np.mean(np.equal(predictions, y_test))\n",
    "    errors.append(error)\n",
    "\n",
    "print(f\"error rate is {np.mean(errors)}\")"
   ]
  },
  {
   "cell_type": "code",
   "execution_count": null,
   "metadata": {},
   "outputs": [],
   "source": []
  }
 ],
 "metadata": {
  "kernelspec": {
   "display_name": "Python 3",
   "language": "python",
   "name": "python3"
  },
  "language_info": {
   "codemirror_mode": {
    "name": "ipython",
    "version": 3
   },
   "file_extension": ".py",
   "mimetype": "text/x-python",
   "name": "python",
   "nbconvert_exporter": "python",
   "pygments_lexer": "ipython3",
   "version": "3.7.5"
  }
 },
 "nbformat": 4,
 "nbformat_minor": 4
}
