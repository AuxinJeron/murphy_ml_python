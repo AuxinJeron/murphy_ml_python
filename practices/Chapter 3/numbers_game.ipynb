{
 "cells": [
  {
   "cell_type": "markdown",
   "metadata": {},
   "source": [
    "### Numbers Game"
   ]
  },
  {
   "cell_type": "code",
   "execution_count": 1,
   "metadata": {},
   "outputs": [],
   "source": [
    "# A smaller version of Json Tenebaum's Number Game\n",
    "# The source of the code is https://github.com/probml/pyprobml/blob/master/scripts/knn_classify_demo.py"
   ]
  },
  {
   "cell_type": "code",
   "execution_count": 43,
   "metadata": {},
   "outputs": [],
   "source": [
    "import numpy as np\n",
    "import matplotlib.pyplot as plt\n",
    "import math\n",
    "\n",
    "# The range of numbers to be considered: [1,...,100]\n",
    "number_range = np.arange(1, 101)"
   ]
  },
  {
   "cell_type": "code",
   "execution_count": 105,
   "metadata": {},
   "outputs": [],
   "source": [
    "# A hypothesis is represented by a name and predicate.\n",
    "# The predicate can be used to verify whether one element is in the hypothesis space\n",
    "class Hypothesis:\n",
    "    def __init__(self, predicate, name):\n",
    "        self.predicate = predicate\n",
    "        self.name = name\n",
    "        \n",
    "        # the extension of the hypothesis\n",
    "        self.extension = [n for n in number_range if self.predicate(n)]\n",
    "        # the size of the extension of this hypothesis\n",
    "        self.size = len(self.extension)\n",
    "        \n",
    "    # Returns the extension of the hypothesis as a list of binary indicators for each\n",
    "    # of the numbers in the number range. Note: the first indicator value corresponds\n",
    "    # to the first number in the range of numbers, etc.\n",
    "    def get_extension_indication(self):\n",
    "        return [int(self.predicate(x)) for x in number_range]\n",
    "        \n",
    "    # Returns two hypotheses: the even numbers, and the odd numbers\n",
    "    @staticmethod\n",
    "    def even_odd():\n",
    "        even = Hypothesis(lambda x: x % 2 == 0, \"even\")\n",
    "        odd = Hypothesis(lambda x: x % 2 != 0, \"odd\")\n",
    "        return [even, odd]\n",
    "    \n",
    "    # Return array of hypotheses based on the provided the multipliers\n",
    "    @staticmethod\n",
    "    def multiples(multipliers):\n",
    "        return [Hypothesis(lambda x: x % m == 0, f\"mult of {m}\") for m in multipliers]\n",
    "    \n",
    "    # Return array of hypotheses based on the provided digits. The numbers in each extension\n",
    "    # should end in the corresponding digit\n",
    "    @staticmethod\n",
    "    def ending_in(digits):\n",
    "        return [Hypothesis(lambda x: x % 10 == d, f\"ends in {d}\") for d in digits]\n",
    "    \n",
    "    # Return array of hypotheses based on the provided bases. The numbers in each extension\n",
    "    # should be the positive integer power of the base    \n",
    "    @staticmethod\n",
    "    def powers(bases):\n",
    "        return [Hypothesis(lambda x: Hypothesis._is_power(x, b), f\"powers of {b}\") for b in bases]\n",
    "    \n",
    "    # Helper function to check whether x is the power of base\n",
    "    @staticmethod\n",
    "    def _is_power(x, base):\n",
    "        curr = base\n",
    "        while curr < x:\n",
    "            curr = curr * base\n",
    "        return curr == x\n",
    "    \n",
    "    # Return array of hypotheses whose extension should be included in the provided integers\n",
    "    @staticmethod\n",
    "    def explicit_set(numbers):\n",
    "        return [Hypothesis(lambda x: x in numbers, \"{\"+\",\".join([str(n) for n in numbers])+\"}\")]\n",
    "    \n",
    "    # The probabilty under this hypothesis of generating the given number\n",
    "    # equation: π(n ε h)/|h|\n",
    "    def prob(self, number):\n",
    "        return int(self.predicate(number)) / self.size\n",
    "    \n",
    "    # This function pairwise composes twe lists of hypotheses of the same length into a single\n",
    "    # list of that length\n",
    "    @staticmethod\n",
    "    def compose(first_hypotheses, second_hypotheses, operation, operation_name):\n",
    "        return [\n",
    "            Hypothesis(\n",
    "                lambda x: operation(\n",
    "                    first_hypotheses[i].predicate(x), second_hypotheses[i].predicate(x)\n",
    "                ),\n",
    "                f\"{first_hypotheses[i].name} {operation_name} {second_hypotheses[i].name}\"\n",
    "            ) for i in range(0, len(first_hypotheses))\n",
    "        ]"
   ]
  },
  {
   "cell_type": "code",
   "execution_count": 82,
   "metadata": {},
   "outputs": [],
   "source": [
    "# A Bayes class contains the method the method to calculate the likelihood, prior, posterior\n",
    "class Bayes:\n",
    "    # Calculate the likelihood, P(D|h) = 1 / pow(|h|, len(D))\n",
    "    # Returns vector L, s.t L[i] = P(D|h[i])        \n",
    "    @staticmethod\n",
    "    def likelihood(data, hypotheses):\n",
    "        lik = np.column_stack([[hypothesis.prob(x) for x in data] for hypothesis in hypotheses])\n",
    "        return np.prod(lik, 0)\n",
    "    \n",
    "    # posterior distribution \n",
    "    # equation: P(h/D) = P(h) * P(D|h) / P(D)\n",
    "    # data is same in likelihood, the hypotheses are different\n",
    "    def posterior(prior, likelihood):\n",
    "        post = prior * likelihood\n",
    "        return post / sum(post)"
   ]
  },
  {
   "cell_type": "code",
   "execution_count": 106,
   "metadata": {},
   "outputs": [],
   "source": [
    "# A class to draw the plot \n",
    "class Graphing:\n",
    "    @staticmethod\n",
    "    def plot_hypothesis_space(hypotheses):\n",
    "        image = np.column_stack([hypothesis.get_extension_indication() for hypothesis in hypotheses])\n",
    "        \n",
    "        plt.gray()\n",
    "        plt.xticks([i for i in range(len(hypotheses))], [hypothesis.name for hypothesis in hypotheses], rotation='vertical')\n",
    "        plt.yticks([0, 20, 40, 60, 80, 100])\n",
    "        # Ensure the 100 label is shown.\n",
    "        plt.ylim(-1, 100)\n",
    "        plt.imshow(image, aspect='auto', interpolation='none', origin='lower')\n",
    "        \n",
    "        # Don't block, continue to show the next figure.\n",
    "        plt.show(block=False)"
   ]
  },
  {
   "cell_type": "code",
   "execution_count": 109,
   "metadata": {},
   "outputs": [
    {
     "data": {
      "text/plain": [
       "array([0.46854083, 0.        , 0.46854083, 0.        , 0.        ,\n",
       "       0.        , 0.        , 0.        , 0.        , 0.        ,\n",
       "       0.        , 0.        , 0.        , 0.        , 0.        ,\n",
       "       0.        , 0.        , 0.        , 0.        , 0.        ,\n",
       "       0.        , 0.        , 0.        , 0.        , 0.        ,\n",
       "       0.        , 0.        , 0.        , 0.        , 0.04685408,\n",
       "       0.00669344, 0.00937082])"
      ]
     },
     "metadata": {},
     "output_type": "display_data"
    },
    {
     "data": {
      "text/plain": [
       "array([3.81407686e-02, 0.00000000e+00, 0.00000000e+00, 0.00000000e+00,\n",
       "       0.00000000e+00, 0.00000000e+00, 0.00000000e+00, 0.00000000e+00,\n",
       "       0.00000000e+00, 0.00000000e+00, 0.00000000e+00, 0.00000000e+00,\n",
       "       0.00000000e+00, 0.00000000e+00, 0.00000000e+00, 0.00000000e+00,\n",
       "       0.00000000e+00, 0.00000000e+00, 0.00000000e+00, 0.00000000e+00,\n",
       "       0.00000000e+00, 0.00000000e+00, 0.00000000e+00, 0.00000000e+00,\n",
       "       0.00000000e+00, 0.00000000e+00, 0.00000000e+00, 0.00000000e+00,\n",
       "       0.00000000e+00, 4.76759607e-04, 1.98567100e-01, 7.62815372e-01])"
      ]
     },
     "metadata": {},
     "output_type": "display_data"
    }
   ],
   "source": [
    "# The hypothesis space: a vector of hypotheses\n",
    "hypotheses = Hypothesis.even_odd() \\\n",
    "    + [Hypothesis(lambda x: x == np.floor(0.5 + np.sqrt(x)) ** 2, \"squares\")] \\\n",
    "    + Hypothesis.multiples(np.arange(3, 11)) \\\n",
    "    + Hypothesis.ending_in(np.arange(1, 10)) \\\n",
    "    + Hypothesis.powers(np.arange(2, 11)) \\\n",
    "    + [Hypothesis(lambda x: True, \"all\")] \\\n",
    "    + Hypothesis.compose(Hypothesis.powers([2]), Hypothesis.explicit_set([37]), lambda x, y: x or y, \"+\") \\\n",
    "    + Hypothesis.compose(Hypothesis.powers([2]), Hypothesis.explicit_set([32]), lambda x, y: x and not y, \"-\")\n",
    "\n",
    "# The prior on the hypothesis space\n",
    "# {odd, even} = 0.5; {powers of 2 + 37, powers of 2 - 32} = 0.001, else=0.1 \n",
    "prior = np.concatenate([np.array([0.5, 0.5]), 0.1 * np.ones(28), np.array([0.001, 0.001])])\n",
    "prior = prior / sum(prior)\n",
    "\n",
    "# Calculations for D={16}\n",
    "data_16 = [16]\n",
    "likelihood_16 = Bayes.likelihood(data_16, hypotheses)\n",
    "posterior_16 = Bayes.posterior(prior, likelihood_16)\n",
    "display(posterior_16)\n",
    "\n",
    "# Calculations for D={16, 8, 2, 64}\n",
    "data_all = [16, 8, 2, 64]\n",
    "likelihood_all = Bayes.likelihood(data_all, hypotheses)\n",
    "posterior_all = Bayes.posterior(prior, likelihood_all)\n",
    "display(posterior_all)"
   ]
  },
  {
   "cell_type": "code",
   "execution_count": 108,
   "metadata": {},
   "outputs": [
    {
     "data": {
      "image/png": "[encoded data removed]",
      "text/plain": [
       "<Figure size 432x288 with 1 Axes>"
      ]
     },
     "metadata": {
      "needs_background": "light"
     },
     "output_type": "display_data"
    }
   ],
   "source": [
    "Graphing.plot_hypothesis_space(hypotheses)"
   ]
  },
  {
   "cell_type": "code",
   "execution_count": null,
   "metadata": {},
   "outputs": [],
   "source": []
  }
 ],
 "metadata": {
  "kernelspec": {
   "display_name": "Python 3",
   "language": "python",
   "name": "python3"
  },
  "language_info": {
   "codemirror_mode": {
    "name": "ipython",
    "version": 3
   },
   "file_extension": ".py",
   "mimetype": "text/x-python",
   "name": "python",
   "nbconvert_exporter": "python",
   "pygments_lexer": "ipython3",
   "version": "3.7.5"
  }
 },
 "nbformat": 4,
 "nbformat_minor": 4
}
